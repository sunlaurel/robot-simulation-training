{
 "cells": [
  {
   "cell_type": "code",
   "execution_count": 12,
   "id": "d0355993",
   "metadata": {},
   "outputs": [],
   "source": [
    "import utils\n",
    "import torch\n",
    "from torch.utils.data import DataLoader\n",
    "import json\n",
    "import matplotlib.pyplot as plt\n",
    "from train_helper import T_test"
   ]
  },
  {
   "cell_type": "code",
   "execution_count": 13,
   "id": "d7a18204",
   "metadata": {},
   "outputs": [],
   "source": [
    "def plot_predicted_trajectory(x_past, x_future, x_robot, x_target, x_predicted):\n",
    "    \"\"\"Graphs the predicted trajectory compared to the actual trajectory\"\"\"\n",
    "    # breakpoint()\n",
    "    x_past_coords = x_past[0].numpy()\n",
    "    y_past_coords = x_past[1].numpy()\n",
    "    x_future_coords = x_future[0].numpy()\n",
    "    y_future_coords = x_future[1].numpy()\n",
    "    x_robot_traj_coords = x_robot[0].numpy()\n",
    "    y_robot_traj_coords = x_robot[1].numpy()\n",
    "    x_target_coord = x_target[0]\n",
    "    y_target_coord = x_target[1]\n",
    "    x_predicted_coord = x_predicted[0]\n",
    "    y_predicted_coord = x_predicted[1]\n",
    "\n",
    "    plt.figure(figsize=(9, 9))\n",
    "    plt.scatter(x_past_coords, y_past_coords, marker=\"o\", color=\"r\")\n",
    "    plt.scatter(x_future_coords, y_future_coords, marker=\"o\", color=\"purple\")\n",
    "    plt.plot(\n",
    "        x_robot_traj_coords,\n",
    "        y_robot_traj_coords,\n",
    "        marker=\"o\",\n",
    "        linestyle=\"-\",\n",
    "        color=\"orange\",\n",
    "    )\n",
    "    plt.scatter(x_target_coord, y_target_coord, marker=\"o\", color=\"b\")\n",
    "    plt.scatter(x_predicted_coord, y_predicted_coord, marker=\"o\", color=\"g\")\n",
    "    # plt.xlim(-5, 5)\n",
    "    # plt.ylim(-5, 5)\n",
    "    plt.xlabel(\"x\")\n",
    "    plt.ylabel(\"y\")\n",
    "    plt.title(\"Trajectories\")\n",
    "    plt.legend(\n",
    "        [\n",
    "            \"Past Trajectory\",\n",
    "            \"Future Trajectory\",\n",
    "            \"Generated Robot Trajectory\",\n",
    "            \"Actual Future Robot Position\",\n",
    "            \"Predicted Future Robot Position\",\n",
    "        ]\n",
    "    )\n",
    "    plt.show()"
   ]
  },
  {
   "cell_type": "code",
   "execution_count": null,
   "id": "a24385de",
   "metadata": {},
   "outputs": [
    {
     "ename": "AttributeError",
     "evalue": "module 'utils' has no attribute 'models'",
     "output_type": "error",
     "traceback": [
      "\u001b[0;31m---------------------------------------------------------------------------\u001b[0m",
      "\u001b[0;31mAttributeError\u001b[0m                            Traceback (most recent call last)",
      "Cell \u001b[0;32mIn[17], line 12\u001b[0m\n\u001b[1;32m      9\u001b[0m past_steps \u001b[38;5;241m=\u001b[39m data[\u001b[38;5;124m\"\u001b[39m\u001b[38;5;124mpast-steps\u001b[39m\u001b[38;5;124m\"\u001b[39m]\n\u001b[1;32m     10\u001b[0m future_steps \u001b[38;5;241m=\u001b[39m data[\u001b[38;5;124m\"\u001b[39m\u001b[38;5;124mfuture-steps\u001b[39m\u001b[38;5;124m\"\u001b[39m]\n\u001b[0;32m---> 12\u001b[0m network \u001b[38;5;241m=\u001b[39m \u001b[43mutils\u001b[49m\u001b[38;5;241;43m.\u001b[39;49m\u001b[43mmodels\u001b[49m\u001b[38;5;241m.\u001b[39mMultiLayerRobot(\n\u001b[1;32m     13\u001b[0m     input_size\u001b[38;5;241m=\u001b[39m\u001b[38;5;241m4\u001b[39m \u001b[38;5;241m*\u001b[39m past_steps,\n\u001b[1;32m     14\u001b[0m     hidden_layer1\u001b[38;5;241m=\u001b[39m\u001b[38;5;241m100\u001b[39m,\n\u001b[1;32m     15\u001b[0m     hidden_layer2\u001b[38;5;241m=\u001b[39m\u001b[38;5;241m100\u001b[39m,\n\u001b[1;32m     16\u001b[0m     output_size\u001b[38;5;241m=\u001b[39m\u001b[38;5;241m2\u001b[39m,\n\u001b[1;32m     17\u001b[0m )\n\u001b[1;32m     19\u001b[0m save_path \u001b[38;5;241m=\u001b[39m \u001b[38;5;124mf\u001b[39m\u001b[38;5;124m\"\u001b[39m\u001b[38;5;124m./weights/best-weights-robot/best_weight\u001b[39m\u001b[38;5;132;01m{\u001b[39;00m\u001b[38;5;124m'\u001b[39m\u001b[38;5;124m_noise\u001b[39m\u001b[38;5;124m'\u001b[39m\u001b[38;5;250m \u001b[39m\u001b[38;5;28;01mif\u001b[39;00m\u001b[38;5;250m \u001b[39mnoise_flag\u001b[38;5;250m \u001b[39m\u001b[38;5;28;01melse\u001b[39;00m\u001b[38;5;250m \u001b[39m\u001b[38;5;124m'\u001b[39m\u001b[38;5;124m'\u001b[39m\u001b[38;5;132;01m}\u001b[39;00m\u001b[38;5;132;01m{\u001b[39;00m\u001b[38;5;124m'\u001b[39m\u001b[38;5;124m_rotate\u001b[39m\u001b[38;5;124m'\u001b[39m\u001b[38;5;250m \u001b[39m\u001b[38;5;28;01mif\u001b[39;00m\u001b[38;5;250m \u001b[39mrotate_flag\u001b[38;5;250m \u001b[39m\u001b[38;5;28;01melse\u001b[39;00m\u001b[38;5;250m \u001b[39m\u001b[38;5;124m'\u001b[39m\u001b[38;5;124m'\u001b[39m\u001b[38;5;132;01m}\u001b[39;00m\u001b[38;5;132;01m{\u001b[39;00m\u001b[38;5;124m'\u001b[39m\u001b[38;5;124m_scale\u001b[39m\u001b[38;5;124m'\u001b[39m\u001b[38;5;250m \u001b[39m\u001b[38;5;28;01mif\u001b[39;00m\u001b[38;5;250m \u001b[39mscale_flag\u001b[38;5;250m \u001b[39m\u001b[38;5;28;01melse\u001b[39;00m\u001b[38;5;250m \u001b[39m\u001b[38;5;124m'\u001b[39m\u001b[38;5;124m'\u001b[39m\u001b[38;5;132;01m}\u001b[39;00m\u001b[38;5;132;01m{\u001b[39;00m\u001b[38;5;124m'\u001b[39m\u001b[38;5;124m_offset\u001b[39m\u001b[38;5;124m'\u001b[39m\u001b[38;5;250m \u001b[39m\u001b[38;5;28;01mif\u001b[39;00m\u001b[38;5;250m \u001b[39moffset_flag\u001b[38;5;250m \u001b[39m\u001b[38;5;28;01melse\u001b[39;00m\u001b[38;5;250m \u001b[39m\u001b[38;5;124m'\u001b[39m\u001b[38;5;124m'\u001b[39m\u001b[38;5;132;01m}\u001b[39;00m\u001b[38;5;132;01m{\u001b[39;00m\u001b[38;5;124m'\u001b[39m\u001b[38;5;124m(\u001b[39m\u001b[38;5;124m'\u001b[39m\u001b[38;5;250m \u001b[39m\u001b[38;5;241m+\u001b[39m\u001b[38;5;250m \u001b[39m\u001b[38;5;28mstr\u001b[39m(past_steps)\u001b[38;5;250m \u001b[39m\u001b[38;5;241m+\u001b[39m\u001b[38;5;250m \u001b[39m\u001b[38;5;124m'\u001b[39m\u001b[38;5;124m-past)\u001b[39m\u001b[38;5;124m'\u001b[39m\u001b[38;5;250m \u001b[39m\u001b[38;5;28;01mif\u001b[39;00m\u001b[38;5;250m \u001b[39mpast_steps\u001b[38;5;250m \u001b[39m\u001b[38;5;241m!=\u001b[39m\u001b[38;5;250m \u001b[39m\u001b[38;5;241m10\u001b[39m\u001b[38;5;250m \u001b[39m\u001b[38;5;28;01melse\u001b[39;00m\u001b[38;5;250m \u001b[39m\u001b[38;5;124m'\u001b[39m\u001b[38;5;124m'\u001b[39m\u001b[38;5;132;01m}\u001b[39;00m\u001b[38;5;132;01m{\u001b[39;00m\u001b[38;5;124m'\u001b[39m\u001b[38;5;124m(0.1-sigma)\u001b[39m\u001b[38;5;124m'\u001b[39m\u001b[38;5;250m \u001b[39m\u001b[38;5;28;01mif\u001b[39;00m\u001b[38;5;250m \u001b[39mnoise_flag\u001b[38;5;250m \u001b[39m\u001b[38;5;28;01melse\u001b[39;00m\u001b[38;5;250m \u001b[39m\u001b[38;5;124m'\u001b[39m\u001b[38;5;124m'\u001b[39m\u001b[38;5;132;01m}\u001b[39;00m\u001b[38;5;124m.pth\u001b[39m\u001b[38;5;124m\"\u001b[39m\n\u001b[1;32m     20\u001b[0m save_path \u001b[38;5;241m=\u001b[39m \u001b[38;5;124m\"\u001b[39m\u001b[38;5;124m./weights/best-weights-robot/(big-room)best_weight.pth\u001b[39m\u001b[38;5;124m\"\u001b[39m\n",
      "\u001b[0;31mAttributeError\u001b[0m: module 'utils' has no attribute 'models'"
     ]
    }
   ],
   "source": [
    "with open(file=\"./utils/config.json\", mode=\"r\", encoding=\"utf-8\") as file:\n",
    "        data = json.load(file)\n",
    "\n",
    "# Setting the constants\n",
    "offset_flag = data[\"offset\"]\n",
    "scale_flag = data[\"scale\"]\n",
    "noise_flag = data[\"add-noise\"]\n",
    "rotate_flag = data[\"rotate\"]\n",
    "past_steps = data[\"past-steps\"]\n",
    "future_steps = data[\"future-steps\"]\n",
    "\n",
    "network = utils.models.MultiLayerRobot(\n",
    "    input_size=4 * past_steps,\n",
    "    hidden_layer1=100,\n",
    "    hidden_layer2=100,\n",
    "    output_size=2,\n",
    ")\n",
    "\n",
    "save_path = f\"./weights/best-weights-robot/best_weight{'_noise' if noise_flag else ''}{'_rotate' if rotate_flag else ''}{'_scale' if scale_flag else ''}{'_offset' if offset_flag else ''}{'(' + str(past_steps) + '-past)' if past_steps != 10 else ''}{'(0.1-sigma)' if noise_flag else ''}.pth\"\n",
    "save_path = \"./weights/best-weights-robot/(big-room)best_weight.pth\"\n",
    "print(\"Model visualized:\", save_path)\n",
    "\n",
    "network.load_state_dict(torch.load(save_path, weights_only=True))\n",
    "\n",
    "training_data, testing_data = utils.data.GenTrainTestGeneratedDatasets(\n",
    "    \"./training-data/crowd_data.csv\", past_steps, future_steps\n",
    ")\n",
    "\n",
    "data_loader = DataLoader(training_data, batch_size=1, shuffle=False)"
   ]
  },
  {
   "cell_type": "code",
   "execution_count": 18,
   "id": "7a2510a4",
   "metadata": {},
   "outputs": [
    {
     "ename": "NameError",
     "evalue": "name 'data_loader' is not defined",
     "output_type": "error",
     "traceback": [
      "\u001b[0;31m---------------------------------------------------------------------------\u001b[0m",
      "\u001b[0;31mNameError\u001b[0m                                 Traceback (most recent call last)",
      "Cell \u001b[0;32mIn[18], line 1\u001b[0m\n\u001b[0;32m----> 1\u001b[0m \u001b[38;5;28;01mfor\u001b[39;00m relative_past, target_pos, X_past_w, X_future_w, X_robot_w \u001b[38;5;129;01min\u001b[39;00m \u001b[43mdata_loader\u001b[49m:\n\u001b[1;32m      2\u001b[0m     \u001b[38;5;66;03m# relative_past, target_pos = T_test(\u001b[39;00m\n\u001b[1;32m      3\u001b[0m     \u001b[38;5;66;03m#     relative_past, target_pos, offset=offset_flag, scale=scale_flag\u001b[39;00m\n\u001b[1;32m      4\u001b[0m     \u001b[38;5;66;03m# )\u001b[39;00m\n\u001b[1;32m      5\u001b[0m \n\u001b[1;32m      6\u001b[0m     \u001b[38;5;66;03m# Plot the trajectory\u001b[39;00m\n\u001b[1;32m      7\u001b[0m     \u001b[38;5;28;01mwith\u001b[39;00m torch\u001b[38;5;241m.\u001b[39mno_grad():\n\u001b[1;32m      8\u001b[0m         predicted_r \u001b[38;5;241m=\u001b[39m network(relative_past\u001b[38;5;241m.\u001b[39mfloat())\u001b[38;5;241m.\u001b[39msqueeze()\n",
      "\u001b[0;31mNameError\u001b[0m: name 'data_loader' is not defined"
     ]
    }
   ],
   "source": [
    "for relative_past, target_pos, X_past_w, X_future_w, X_robot_w in data_loader:\n",
    "    # relative_past, target_pos = T_test(\n",
    "    #     relative_past, target_pos, offset=offset_flag, scale=scale_flag\n",
    "    # )\n",
    "\n",
    "    # Plot the trajectory\n",
    "    with torch.no_grad():\n",
    "        predicted_r = network(relative_past.float()).squeeze()\n",
    "\n",
    "    if scale_flag:\n",
    "        target_pos /= 0.5\n",
    "        predicted_r /= 0.5\n",
    "\n",
    "    X_robot_w = X_robot_w.float().squeeze()\n",
    "    X_past_w = X_past_w.float().squeeze()\n",
    "    X_future_w = X_future_w.float().squeeze()\n",
    "    target_pos_r = target_pos.float().squeeze()\n",
    "\n",
    "    predicted_w = utils.data.ConvertRobotFrameToAbsolute(\n",
    "        X_robot_w[:, -1] - X_robot_w[:, -2], predicted_r\n",
    "    )\n",
    "    target_pos_w = utils.data.ConvertRobotFrameToAbsolute(\n",
    "        X_robot_w[:, -1] - X_robot_w[:, -2], target_pos_r\n",
    "    )\n",
    "\n",
    "    predicted_w = predicted_w + X_robot_w[:, -1]\n",
    "    target_pos_w = target_pos_w + X_robot_w[:, -1]\n",
    "\n",
    "    plot_predicted_trajectory(\n",
    "        x_past=X_past_w,\n",
    "        x_future=X_future_w,\n",
    "        x_robot=X_robot_w,\n",
    "        x_target=target_pos_w,\n",
    "        x_predicted=predicted_w,\n",
    "    )\n",
    "\n",
    "    # break  # Only plot the first batch to avoid unnecessary looping"
   ]
  },
  {
   "cell_type": "code",
   "execution_count": null,
   "id": "e461fb7e",
   "metadata": {},
   "outputs": [],
   "source": []
  }
 ],
 "metadata": {
  "kernelspec": {
   "display_name": "Python 3",
   "language": "python",
   "name": "python3"
  },
  "language_info": {
   "codemirror_mode": {
    "name": "ipython",
    "version": 3
   },
   "file_extension": ".py",
   "mimetype": "text/x-python",
   "name": "python",
   "nbconvert_exporter": "python",
   "pygments_lexer": "ipython3",
   "version": "3.9.6"
  }
 },
 "nbformat": 4,
 "nbformat_minor": 5
}
